{
 "cells": [
  {
   "cell_type": "code",
   "execution_count": 1,
   "id": "b245ea1c",
   "metadata": {},
   "outputs": [],
   "source": [
    "import math\n",
    "import pandas as pd\n",
    "import tensorflow as tf\n",
    "import numpy as np\n",
    "import pickle\n",
    "from tensorflow.keras import Sequential\n",
    "from tensorflow.keras.optimizers import Adam\n",
    "from sklearn.preprocessing import StandardScaler\n",
    "from tensorflow.keras.layers import Dense, Dropout\n",
    "from sklearn.model_selection import train_test_split\n",
    "import sklearn.metrics\n",
    "from tensorflow.keras.losses import MeanSquaredLogarithmicError\n",
    "from tensorflow.keras import initializers"
   ]
  },
  {
   "cell_type": "code",
   "execution_count": 2,
   "id": "6b4a9f5c",
   "metadata": {},
   "outputs": [],
   "source": [
    "# Reading the final scores from the all three pipelines/modules\n",
    "df = pd.read_csv('FinalScoringDataset.csv')"
   ]
  },
  {
   "cell_type": "code",
   "execution_count": 3,
   "id": "9e8cdc5f",
   "metadata": {},
   "outputs": [],
   "source": [
    "errors = {\"keywordModule\": \"YAKE\",\n",
    "         \"similarityModule\": \"SimCSE\",\n",
    "         \"nerModule\": \"Camembert\"}\n",
    "\n",
    "# scoring relaxed, constrained to one decimal place \n",
    "def roundVal(X):\n",
    "    y = X.to_list()\n",
    "    for i in range(0, len(y)):\n",
    "        y[i] = round(y[i], 1)\n",
    "    return y"
   ]
  },
  {
   "cell_type": "code",
   "execution_count": 4,
   "id": "06c30e55",
   "metadata": {},
   "outputs": [],
   "source": [
    "# Rounding off the values to one decimal place\n",
    "df[\"keyword_score\"] = roundVal(df[\"keyword_score\"])\n",
    "df[\"similarity_score\"] = roundVal(df[\"similarity_score\"])\n",
    "df[\"ner_score\"] = roundVal(df[\"ner_score\"])\n",
    "\n",
    "# Initializing the values for model generation\n",
    "X = df[[\"keyword_score\", \"similarity_score\", \"ner_score\"]]\n",
    "y = df['Actual Score (0-10)']"
   ]
  },
  {
   "cell_type": "code",
   "execution_count": 5,
   "id": "2d215022",
   "metadata": {},
   "outputs": [
    {
     "name": "stdout",
     "output_type": "stream",
     "text": [
      "Model: \"sequential\"\n",
      "_________________________________________________________________\n",
      " Layer (type)                Output Shape              Param #   \n",
      "=================================================================\n",
      " dense (Dense)               (None, 8)                 32        \n",
      "                                                                 \n",
      " dense_1 (Dense)             (None, 16)                144       \n",
      "                                                                 \n",
      " dense_2 (Dense)             (None, 32)                544       \n",
      "                                                                 \n",
      " dense_3 (Dense)             (None, 64)                2112      \n",
      "                                                                 \n",
      " dense_4 (Dense)             (None, 1)                 65        \n",
      "                                                                 \n",
      "=================================================================\n",
      "Total params: 2,897\n",
      "Trainable params: 2,897\n",
      "Non-trainable params: 0\n",
      "_________________________________________________________________\n",
      "2/2 [==============================] - 0s 2ms/step\n",
      "6/6 [==============================] - 0s 1ms/step\n",
      "6/6 [==============================] - 0s 1ms/step\n",
      "INFO:tensorflow:Assets written to: ram://89a70498-238c-40d0-8c1f-0c1df5809724/assets\n"
     ]
    }
   ],
   "source": [
    "# Training the model from the generated data from the Calculated Scores\n",
    "# Scores are from three pipelines\n",
    "# Along with them there are the final score on which data is trained\n",
    "\n",
    "# using the train test split function\n",
    "X_train, X_test, y_train, y_test = train_test_split(X, y, random_state=14,\n",
    "                          train_size=0.8, shuffle=True)\n",
    "model = Sequential()\n",
    "model.add(Dense(units=8, input_dim=3, kernel_initializer='normal', activation='relu'))\n",
    "model.add(Dense(units=16, kernel_initializer='normal', activation='relu'))\n",
    "model.add(Dense(units=32, kernel_initializer=initializers.RandomNormal(stddev=0.01), bias_initializer=initializers.Zeros(), activation='tanh'))\n",
    "model.add(Dense(units=64, kernel_initializer='normal', activation='relu'))\n",
    "model.add(Dense(1, kernel_initializer='normal'))\n",
    "model.summary()\n",
    "model.compile(loss='mean_squared_error', optimizer='adam')\n",
    "model.fit(X_train, y_train ,batch_size = 6, epochs = 300, verbose=0)\n",
    "\n",
    "# testingError, trainingError, totalError for DNN\n",
    "# These scores are converted to normalize the error\n",
    "# error ranges between 0-1 (may depend on various trial runs)\n",
    "testRMSE = math.sqrt(sklearn.metrics.mean_squared_error(y_test/10, np.round(model.predict(X_test),1)/10))/10  \n",
    "trainRMSE = math.sqrt(sklearn.metrics.mean_squared_error(y/10, np.round(model.predict(X),1)/10))/10  \n",
    "totalRMSE = math.sqrt(sklearn.metrics.mean_squared_error(y/10, np.round(model.predict(X),1)/10))/10\n",
    "errors[\"trainingError\"] = trainRMSE\n",
    "errors[\"testingError\"] = testRMSE\n",
    "errors[\"totalError\"] = totalRMSE\n",
    "\n",
    "trainedMLmodel = pickle.dumps(model)\n",
    "tf.keras.backend.clear_session()"
   ]
  },
  {
   "cell_type": "code",
   "execution_count": null,
   "id": "5b0d113e",
   "metadata": {},
   "outputs": [],
   "source": []
  }
 ],
 "metadata": {
  "kernelspec": {
   "display_name": "Python 3 (ipykernel)",
   "language": "python",
   "name": "python3"
  },
  "language_info": {
   "codemirror_mode": {
    "name": "ipython",
    "version": 3
   },
   "file_extension": ".py",
   "mimetype": "text/x-python",
   "name": "python",
   "nbconvert_exporter": "python",
   "pygments_lexer": "ipython3",
   "version": "3.8.13"
  }
 },
 "nbformat": 4,
 "nbformat_minor": 5
}
